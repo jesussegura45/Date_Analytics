{
  "nbformat": 4,
  "nbformat_minor": 0,
  "metadata": {
    "colab": {
      "provenance": [],
      "authorship_tag": "ABX9TyNydBe04uEKBx2NK5wJBCPC",
      "include_colab_link": true
    },
    "kernelspec": {
      "name": "python3",
      "display_name": "Python 3"
    },
    "language_info": {
      "name": "python"
    }
  },
  "cells": [
    {
      "cell_type": "markdown",
      "metadata": {
        "id": "view-in-github",
        "colab_type": "text"
      },
      "source": [
        "<a href=\"https://colab.research.google.com/github/Franky-250/Date_Analytics/blob/main/Actividad_2.ipynb\" target=\"_parent\"><img src=\"https://colab.research.google.com/assets/colab-badge.svg\" alt=\"Open In Colab\"/></a>"
      ]
    },
    {
      "cell_type": "markdown",
      "source": [
        "<div style=\"background-color: #ffffff; color: #000000; padding: 10px; font-family: Arial, sans-serif; line-height: 1.5;\">\n",
        "<div style=\"text-align: center; color: #000000;\">\n",
        "    <h1>Evidencia de Aprendizaje 1</h1>\n",
        "    <p>Análisis y herramientas de extracción de datos</p>\n",
        "    <hr style=\"border: none; border-top: 1px solid #000000; width: 90%; margin: 25px auto;\">\n",
        "</div>\n",
        "<div style=\"margin: 0 auto; width:60%;\">\n",
        "<table style=\"width: 100%; border-collapse: collapse; color: #000000;\">\n",
        "  <tr style=\"background-color: #ffffff;\">\n",
        "    <th style=\"text-align: left; padding: 8px; border-bottom: 1px solid #000000;\">Materia</th>\n",
        "    <td style=\"text-align: left; padding: 8px; border-bottom: 1px solid #000000;\">Programación para Análisis de Datos</td>\n",
        "  </tr>\n",
        "  <tr style=\"background-color: #ffffff;\">\n",
        "    <th style=\"text-align: left; padding: 8px; border-bottom: 1px solid #000000;\">Grupo</th>\n",
        "    <td style=\"text-align: left; padding: 8px; border-bottom: 1px solid #000000;\">PREICA2402B020101</td>\n",
        "  </tr>\n",
        "  <tr style=\"background-color: #ffffff;\">\n",
        "    <th style=\"text-align: left; padding: 8px; border-bottom: 1px solid #000000;\">Docente</th>\n",
        "    <td style=\"text-align: left; padding: 8px; border-bottom: 1px solid #000000;\">Andrés Felipe Palacio</td>\n",
        "  </tr>\n",
        "  <tr style=\"background-color: #ffffff;\">\n",
        "    <th style=\"text-align: left; padding: 8px; border-bottom: 1px solid #000000;\">Alumnos</th>\n",
        "    <td style=\"text-align: left; padding: 8px; border-bottom: 1px solid #000000;\">Wilson Emilio David - Lida Cristina Florez - Eduin Echeverry Hurtado - Jesus Manuel Segura</td>\n",
        "  </tr>\n",
        "  <tr style=\"background-color: #ffffff;\">\n",
        "    <th style=\"text-align: left; padding: 8px; border-bottom: 1px solid #000000;\">Fecha</th>\n",
        "    <td style=\"text-align: left; padding: 8px; border-bottom: 1px solid #000000;\">Noviembre de 2024</td>\n",
        "  </tr>\n",
        "</table>\n",
        "</div>\n",
        "</div>\n",
        "\n"
      ],
      "metadata": {
        "id": "b8HVZpHH6OlQ"
      }
    },
    {
      "cell_type": "markdown",
      "source": [
        "## **Introducción**\n",
        "\n",
        "<p align=\"justify\">\n",
        "El scraping web es una técnica fundamental en la ciencia de datos y el análisis de información, utilizada ampliamente para extraer datos de páginas web de forma automatizada (Mijangos-Espinosa et al., 2022). Esta técnica permite acceder y recolectar grandes volúmenes de datos de manera rápida y sistemática, facilitando su uso en áreas como estudios de mercado, análisis de precios, investigaciones y aplicaciones académicas. En el ámbito del comercio electrónico, el scraping es especialmente útil para analizar tendencias de productos, comparar precios y obtener insights sobre el comportamiento del mercado.\n",
        "</p>\n",
        "\n",
        "<p align=\"justify\">\n",
        "Para llevar a cabo este proceso, existen diversas herramientas y metodologías, entre las que destacan BeautifulSoup, Selenium y Scrapy. BeautifulSoup es una biblioteca en Python ideal para extraer datos de archivos HTML, mientras que Selenium permite interactuar con navegadores, lo que resulta útil para páginas dinámicas que requieren simulación de interacciones humanas. Por su parte, Scrapy es un marco de trabajo robusto que facilita el scraping a gran escala de manera eficiente.\n",
        "</p>\n",
        "\n",
        "<p align=\"justify\">\n",
        "En este proyecto, se aplicarán estas herramientas para extraer datos de una página de comercio electrónico popular, específicamente de Mercado Libre. El análisis se centrará en un producto en particular (tenis deportivos nike), y el objetivo es obtener información clave, como títulos y precios, que permita explorar el comportamiento y la oferta de este tipo de artículos en la plataforma. Este informe documenta cada fase del proceso, desde la recolección de datos hasta el análisis final, describiendo la metodología utilizada, los resultados obtenidos y las conclusiones derivadas del ejercicio.\n",
        "</p>\n"
      ],
      "metadata": {
        "id": "-Y_q2L97K__s"
      }
    },
    {
      "cell_type": "markdown",
      "source": [
        "## **Descripción de la página y artículo a analizar**\n",
        "\n",
        "<p align=\"justify\">\n",
        "Mercado Libre es una de las plataformas de comercio electrónico más grandes y reconocidas a nivel mundial. Con un catálogo inmenso que abarca desde productos electrónicos hasta ropa y accesorios deportivos, la plataforma ofrece una experiencia de compra accesible, con múltiples opciones de pago y un sistema de envío confiable. Mercado Libre permite a sus usuarios revisar y comparar productos de diversas categorías, así como visualizar reseñas y opiniones de otros compradores, lo cual mejora la toma de decisiones de compra.\n",
        "</p>\n",
        "\n",
        "<p align=\"justify\">\n",
        "Para esta actividad de scraping, se ha seleccionado el calzado deportivo Nike para hombre como el artículo de interés dentro de la categoría de ropa y accesorios deportivos. La popularidad de estos artículos, tanto por su calidad como por el reconocimiento de la marca Nike, convierte al calzado deportivo en un producto ideal para este análisis. El objetivo de la extracción de datos es obtener información relevante, como títulos y precios de varios modelos de calzado Nike disponibles en Mercado Libre, con el fin de analizar la oferta y posibles tendencias de precios en el mercado de calzado deportivo masculino. Estos datos pueden resultar valiosos para estudios de mercado, especialmente en la evaluación de la competitividad de precios y el análisis de productos similares en diferentes rangos de precio.\n",
        "</p>"
      ],
      "metadata": {
        "id": "IcZFlQr8Ln0m"
      }
    },
    {
      "cell_type": "markdown",
      "source": [
        "## **Descripción del tema de interés que deseamos desarrollar en la primera práctica**\n",
        "\n",
        "<p align=\"justify\">\n",
        "En esta primera práctica, nuestro equipo se enfocó en explorar el mercado de calzado deportivo masculino de la marca Nike en Mercado Libre. Dado que Mercado Libre es una de las plataformas de comercio electrónico más grandes y populares, resulta un sitio ideal para analizar cómo se presentan estos productos, los rangos de precios que manejan y los modelos que captan mayor atención. Como equipo, decidimos aplicar técnicas de scraping para extraer información clave de varios modelos de tenis Nike, como sus nombres y precios, de manera automatizada.\n",
        "</p>\n",
        "\n",
        "<p align=\"justify\">\n",
        "Este análisis en conjunto nos permite obtener una visión más amplia del mercado de calzado deportivo en línea y detectar patrones de precios, diferencias entre modelos y estrategias de presentación que Mercado Libre utiliza. Nuestra intención es identificar oportunidades y tendencias de precio que puedan ser útiles para consumidores, así como para quienes estén interesados en el mercado deportivo. Al realizar esta actividad de forma colaborativa, buscamos mejorar nuestra comprensión del mercado y las habilidades en el manejo de herramientas de extracción de datos.\n",
        "</p>"
      ],
      "metadata": {
        "id": "NaBJb5803IKb"
      }
    },
    {
      "cell_type": "markdown",
      "source": [
        "## **Objetivo**\n",
        "\n",
        "<p align=\"justify\">\n",
        "Implementar técnicas de scraping web mediante la biblioteca BeautifulSoup en la plataforma Mercado Libre, con el propósito de extraer y analizar información específica sobre productos de calzado deportivo Nike.\n",
        "</p>\n",
        "\n",
        "<h3><strong>Objetivos Específicos</strong></h3>\n",
        "\n",
        "<ul>\n",
        "    <li align=\"justify\">Aplicar filtros en el scraping para extraer exclusivamente productos de la marca Nike en la categoría de calzado deportivo masculino, generando un listado detallado de modelos, títulos y precios.</li>\n",
        "    <li align=\"justify\">Organizar y almacenar los datos extraídos en formatos CSV, JSON y HTML para facilitar el análisis y visualización de los datos en distintos entornos.</li>\n",
        "    <li align=\"justify\">Crear un archivo HTML que simule un catálogo de productos en línea, donde se presenten los modelos de calzado deportivo Nike extraídos, junto con sus precios y nombres, en un formato visualmente atractivo.</li>\n",
        "    <li align=\"justify\">Evaluar la eficacia de BeautifulSoup en la extracción de datos en Mercado Libre y considerar la aplicación de Selenium o Scrapy como alternativas en sitios de mayor complejidad o con contenido dinámico.</li>\n",
        "</ul>\n"
      ],
      "metadata": {
        "id": "xs58BDwnMFIl"
      }
    },
    {
      "cell_type": "markdown",
      "source": [
        "## **Metodología empleada de scraping**\n",
        "\n",
        "<p style=\"text-align: justify;\">\n",
        "Para esta práctica, empleamos la biblioteca BeautifulSoup de Python para extraer datos desde Mercado Libre, específicamente sobre calzado deportivo Nike para hombre. El proceso seguido y las configuraciones implementadas se describen a continuación:\n",
        "</p>\n",
        "\n",
        "<ol style=\"text-align: justify;\">\n",
        "    <li style=\"text-align: justify;\">\n",
        "        <strong> Selección de la URL y configuración de la solicitud:</strong> Seleccionamos la URL de Mercado Libre que muestra una lista de tenis Nike para hombre. Para acceder a la página sin restricciones, configuramos los headers en la solicitud HTTP. Los encabezados (headers) incluyen:\n",
        "        <ul style=\"text-align: justify;\">\n",
        "            <li style=\"text-align: justify;\"><strong>User-Agent:</strong> Simula un navegador real, permitiendo que Mercado Libre detecte la solicitud como si fuera de un usuario en lugar de un bot, evitando restricciones de acceso.</li>\n",
        "            <li style=\"text-align: justify;\"><strong>Accept-Language:</strong> Asegura que el contenido sea recibido en el idioma deseado, en este caso español.</li>\n",
        "            <li style=\"text-align: justify;\"><strong>Referer y Accept-Encoding:</strong> Ayudan a indicar que la solicitud proviene de un entorno legítimo y aseguran una transmisión de datos eficiente.</li>\n",
        "        </ul>\n",
        "        Estas configuraciones permiten que el scraping se realice de manera fluida y segura, disminuyendo el riesgo de ser bloqueados.\n",
        "    </li>\n",
        "    <li style=\"text-align: justify;\">\n",
        "        <strong> Implementación de una pausa en las solicitudes:</strong> Añadimos un retraso de 2 segundos entre las solicitudes (<code>time.sleep</code>) para imitar el comportamiento humano. Esta pausa reduce el riesgo de ser detectados como bot, ya que múltiples solicitudes rápidas podrían activar los mecanismos de bloqueo de Mercado Libre.\n",
        "    </li>\n",
        "    <li style=\"text-align: justify;\">\n",
        "        <strong>Extracción de datos con BeautifulSoup:</strong> Utilizamos BeautifulSoup para analizar el contenido HTML de la página y localizar los elementos clave, como el nombre y precio de cada producto. Extraemos estos datos de manera estructurada, organizándolos en una lista.\n",
        "    </li>\n",
        "    <li style=\"text-align: justify;\">\n",
        "        <strong>Almacenamiento de datos en múltiples formatos:</strong>\n",
        "        <ul style=\"text-align: justify;\">\n",
        "            <li style=\"text-align: justify;\"><strong>CSV:</strong> Guardamos los datos en un archivo CSV para un análisis más fácil en herramientas como Excel.</li>\n",
        "            <li style=\"text-align: justify;\"><strong>JSON:</strong> Guardamos los datos en formato JSON, ideal para integraciones web.</li>\n",
        "            <li style=\"text-align: justify;\"><strong>HTML:</strong> Generamos un archivo HTML que presenta los datos extraídos en forma de catálogo, simulando una página de productos.</li>\n",
        "        </ul>\n",
        "    </li>\n",
        "    <li style=\"text-align: justify;\">\n",
        "        <strong>Manejo de errores y evaluación de herramientas adicionales:</strong> Añadimos manejo de errores para evitar interrupciones por fallos en la solicitud o cambios en la página. Aunque usamos BeautifulSoup, también evaluamos Selenium y Scrapy para futuros proyectos en sitios dinámicos, logrando una extracción estructurada y segura.\n",
        "    </li>\n",
        "</ol>"
      ],
      "metadata": {
        "id": "o1FjqER93vMN"
      }
    },
    {
      "cell_type": "markdown",
      "source": [
        "## **Resultados**\n",
        "\n",
        "<p align=\"justify\">\n",
        "Los resultados obtenidos muestran que nuestra metodología de scraping funcionó como esperábamos. Pudimos extraer una lista completa de modelos de calzado deportivo Nike para hombre en Mercado Libre, capturando detalles como el nombre de cada producto y su precio, y logramos hacerlo sin complicaciones técnicas.\n",
        "</p>\n",
        "\n",
        "<p align=\"justify\">\n",
        "El archivo HTML que generamos organiza esta información de forma visual y sencilla, simulando un catálogo en línea. Esta estructura permite ver rápidamente la lista de productos de una manera clara y atractiva, lo cual es muy útil para revisar y presentar los datos de forma comprensible.\n",
        "</p>\n",
        "\n",
        "<p align=\"justify\">\n",
        "Además, creamos archivos CSV y JSON para almacenar los datos de distintas maneras:\n",
        "</p>\n",
        "<ul align=\"justify\">\n",
        "    <li style=\"text-align: justify;\"><strong>Archivo CSV:</strong> Este formato nos permite ver los productos y precios en forma de tabla, ideal para análisis en herramientas como Excel.</li>\n",
        "    <li style=\"text-align: justify;\"><strong>Archivo JSON:</strong> Este formato es útil para quienes prefieren trabajar con datos estructurados en programación o para aplicaciones web.</li>\n",
        "</ul>\n",
        "\n",
        "<p align=\"justify\">\n",
        "En general, los resultados demuestran que nuestra estrategia fue efectiva para captar y organizar la información, lo que facilita el análisis y la presentación de los datos de una forma clara y accesible.\n",
        "</p>\n"
      ],
      "metadata": {
        "id": "cBpmt7RRMjAs"
      }
    },
    {
      "cell_type": "markdown",
      "source": [
        "#**Código**"
      ],
      "metadata": {
        "id": "-fFEiHEPMnNG"
      }
    },
    {
      "cell_type": "code",
      "source": [
        "!git clone https://github.com/Franky-250/Analitica_Datos.git"
      ],
      "metadata": {
        "id": "hU4FX60Zv61a",
        "outputId": "6e7cd3df-dc31-41e0-c8ca-620cf7643fa1",
        "colab": {
          "base_uri": "https://localhost:8080/"
        }
      },
      "execution_count": null,
      "outputs": [
        {
          "output_type": "stream",
          "name": "stdout",
          "text": [
            "Cloning into 'Analitica_Datos'...\n",
            "remote: Enumerating objects: 5, done.\u001b[K\n",
            "remote: Counting objects: 100% (5/5), done.\u001b[K\n",
            "remote: Compressing objects: 100% (4/4), done.\u001b[K\n",
            "remote: Total 5 (delta 0), reused 0 (delta 0), pack-reused 0 (from 0)\u001b[K\n",
            "Receiving objects: 100% (5/5), 11.54 KiB | 11.54 MiB/s, done.\n"
          ]
        }
      ]
    },
    {
      "cell_type": "code",
      "execution_count": null,
      "metadata": {
        "id": "JCkxYtrg4K9O"
      },
      "outputs": [],
      "source": [
        "import requests\n",
        "from bs4 import BeautifulSoup\n",
        "import os\n",
        "import time\n",
        "import csv\n",
        "import json\n",
        "import random\n"
      ]
    },
    {
      "cell_type": "code",
      "source": [
        "def scrape_mercado_libre(url):\n",
        "    headers = {\n",
        "        \"User-Agent\": \"Mozilla/5.0 (Windows NT 10.0; Win64; x64) AppleWebKit/537.36 (KHTML, like Gecko) Chrome/92.0.4515.159 Safari/537.36\",\n",
        "        \"Accept-Language\": \"es-ES, en;q=0.5\",\n",
        "        \"Referer\": \"https://www.mercadolibre.com.co/\",\n",
        "        \"Accept-Encoding\": \"gzip, deflate, br\",\n",
        "    }\n",
        "\n",
        "    try:\n",
        "        # Pausa para reducir el riesgo de bloqueo\n",
        "        time.sleep(8)\n",
        "\n",
        "        # Realizar la solicitud a la URL\n",
        "        response = requests.get(url, headers=headers)\n",
        "        response.raise_for_status()\n",
        "\n",
        "        soup = BeautifulSoup(response.text, 'html.parser')\n",
        "\n",
        "        resultados = \"\"\n",
        "        data_list = []  # Lista para almacenar datos para CSV y JSON\n",
        "\n",
        "        # Extraer los productos\n",
        "        productos = soup.find_all('h2', class_='poly-box poly-component__title')\n",
        "\n",
        "        for producto in productos:\n",
        "            # Extraer el título\n",
        "            titulo_elemento = producto.find('a')\n",
        "            titulo = titulo_elemento.text.strip() if titulo_elemento else \"Título no encontrado\"\n",
        "\n",
        "            # Extraer el precio\n",
        "            precio_elemento = producto.find_next('span', class_='andes-money-amount__fraction')\n",
        "            precio = precio_elemento.text.strip() if precio_elemento else \"Precio no encontrado\"\n",
        "\n",
        "            resultados += f\"Título: {titulo}\\n\"\n",
        "            resultados += f\"Precio: {precio}\\n\"\n",
        "            resultados += f\"_ _ _\\n\"\n",
        "            data_list.append({\"Título\": titulo, \"Precio\": precio})\n",
        "\n",
        "        # Guardar el HTML\n",
        "        output_dir = 'content/sample_data'\n",
        "        if not os.path.exists(output_dir):\n",
        "            os.makedirs(output_dir)\n",
        "\n",
        "        with open(f'{output_dir}/mercado_libre_products.html', 'w', encoding=\"utf-8\") as file:\n",
        "            file.write(str(soup))\n",
        "\n",
        "        # Guardar datos en archivo CSV\n",
        "        with open(f'{output_dir}/mercado_libre_products.csv', 'w', newline='', encoding=\"utf-8\") as csv_file:\n",
        "            writer = csv.DictWriter(csv_file, fieldnames=[\"Título\", \"Precio\"])\n",
        "            writer.writeheader()\n",
        "            writer.writerows(data_list)\n",
        "\n",
        "        # Guardar datos en archivo JSON\n",
        "        with open(f'{output_dir}/mercado_libre_products.json', 'w', encoding=\"utf-8\") as json_file:\n",
        "            json.dump(data_list, json_file, ensure_ascii=False, indent=4)\n",
        "\n",
        "        return resultados\n",
        "\n",
        "    except requests.exceptions.RequestException as e:\n",
        "        return f\"Error al hacer la solicitud: {e}\"\n",
        "    except AttributeError as e:\n",
        "        return f\"Error al analizar el HTML: {e}. Verificar el selector CSS.\"\n",
        "    except Exception as e:\n",
        "        return f\"Error inesperado: {e}\"\n",
        "\n",
        "# URL de Mercado Libre\n",
        "url_mercado_libre = \"https://listado.mercadolibre.com.co/tenis-nike-hombre\"\n",
        "resultados = scrape_mercado_libre(url_mercado_libre)\n",
        "print(resultados)\n"
      ],
      "metadata": {
        "colab": {
          "base_uri": "https://localhost:8080/"
        },
        "id": "aJv85PiF4UB_",
        "outputId": "36985ef2-1c84-4efc-d5e2-32a9c4c4c2fd"
      },
      "execution_count": null,
      "outputs": [
        {
          "output_type": "stream",
          "name": "stdout",
          "text": [
            "Título: Tenis Nike Hombre Air Max System Blanco Verde Dz0795-102\n",
            "Precio: 575.900\n",
            "_ _ _\n",
            "Título: Tenis Nike Hombre Juniper Trail 3 Fq0904-001\n",
            "Precio: 534.950\n",
            "_ _ _\n",
            "Título: Zapatos Calzado Tenis Botas Zapatilla  Lt Caballero Hombre\n",
            "Precio: 98.000\n",
            "_ _ _\n",
            "Título: Tenis Nike Revolution 6 Running-gris Oscuro\n",
            "Precio: 414.990\n",
            "_ _ _\n",
            "Título: Tenis Nike Sb Chron 2 Canvas-blanco\n",
            "Precio: 329.990\n",
            "_ _ _\n",
            "Título: Tenis Nike Juniper Trail 2 Gore-tex-negro\n",
            "Precio: 649.990\n",
            "_ _ _\n",
            "Título: Tenis Nike Hombre Air Max System Blanco Verde Dz0795-102\n",
            "Precio: 575.900\n",
            "_ _ _\n",
            "Título: Tenis Nike Air Jordan 1 Low-blanco\n",
            "Precio: 724.990\n",
            "_ _ _\n",
            "Título: Tenis Nike Free Metcon 5-negro\n",
            "Precio: 699.990\n",
            "_ _ _\n",
            "Título: Tenis Jordan Max Aura 5 Brand-negro\n",
            "Precio: 799.990\n",
            "_ _ _\n",
            "Título: Tenis Jordan Stay Loyal 3 Remix-negro\n",
            "Precio: 654.990\n",
            "_ _ _\n",
            "Título: Tenis Jordan Max Aura 5-negro/gris\n",
            "Precio: 744.990\n",
            "_ _ _\n",
            "Título: Tenis Hombre Nike Court Legacy Next Nature\n",
            "Precio: 415.950\n",
            "_ _ _\n",
            "Título: Tenis Jordan Mvp Remix-negro\n",
            "Precio: 934.990\n",
            "_ _ _\n",
            "Título: Tenis Jordan Stay Loyal 3 Remix-blanco/negro\n",
            "Precio: 654.990\n",
            "_ _ _\n",
            "Título: Zapatillas De Tenis Zapatillas De Baloncesto 2023\n",
            "Precio: 178.946\n",
            "_ _ _\n",
            "Título: Tenis Jordan Nu Retro 1-multicolor\n",
            "Precio: 594.990\n",
            "_ _ _\n",
            "Título: Tenis Nike Hombre Air Max Solo Dx3666-100 Negro\n",
            "Precio: 576.900\n",
            "_ _ _\n",
            "Título: Tenis Nike Cortez Txt Or-verde\n",
            "Precio: 529.990\n",
            "_ _ _\n",
            "Título: Tenis Nike Flex Experience Run 10\n",
            "Precio: 539.990\n",
            "_ _ _\n",
            "Título: Tenis Nike Renew Run 4-negro/rojo\n",
            "Precio: 489.990\n",
            "_ _ _\n",
            "Título: Tenis Nike Hombre Juniper Trail 3 Fq0904-001\n",
            "Precio: 534.950\n",
            "_ _ _\n",
            "Título: Tenis Nike Cortez Sportswear-negro\n",
            "Precio: 529.990\n",
            "_ _ _\n",
            "Título: Tenis Nike Renew Run 4-negro\n",
            "Precio: 489.990\n",
            "_ _ _\n",
            "Título: Tenis Nike  Air Max Sc-gris/rojo\n",
            "Precio: 464.990\n",
            "_ _ _\n",
            "Título: Tenis Nike Running Swift 3-gris\n",
            "Precio: 409.990\n",
            "_ _ _\n",
            "Título: Tenis Nike In-season Training-negro\n",
            "Precio: 479.990\n",
            "_ _ _\n",
            "Título: Tenis Nike Hombre Dm9537-007 Air Max Systm\n",
            "Precio: 431.960\n",
            "_ _ _\n",
            "Título: Tenis Nike M Air Max Alpha Trainer 6-negro/blanco\n",
            "Precio: 519.990\n",
            "_ _ _\n",
            "Título: Tenis Nike Court Vision Mid Nn-negro\n",
            "Precio: 459.990\n",
            "_ _ _\n",
            "Título: Tenis Nike Court Vision Mid Nn-blanco\n",
            "Precio: 459.990\n",
            "_ _ _\n",
            "Título: Tenis Nike Hombre Blazer Mid 77 Jumbo Blanco\n",
            "Precio: 604.900\n",
            "_ _ _\n",
            "Título: Tenis Nike Court Vision Mid Next Nature-negro\n",
            "Precio: 499.990\n",
            "_ _ _\n",
            "Título: Tenis Nike Hombre Air Max Systm Ncps Gris Verde\n",
            "Precio: 546.900\n",
            "_ _ _\n",
            "Título: Tenis Nike Air Winflo 10 Se-blanco\n",
            "Precio: 574.990\n",
            "_ _ _\n",
            "Título: Tenis Nike Zoom Vapor Pro 2 Hc-negro\n",
            "Precio: 704.990\n",
            "_ _ _\n",
            "Título: Tenis Hombre Nike Air Zoom Pegasus 40\n",
            "Precio: 699.950\n",
            "_ _ _\n",
            "Título: Tenis Hombre Nike Air Zoom Tr 1\n",
            "Precio: 699.950\n",
            "_ _ _\n",
            "Título: Tenis Nike Hombre Air Max System Negro\n",
            "Precio: 546.900\n",
            "_ _ _\n",
            "Título: Tenis Hombre Nike Tanjun\n",
            "Precio: 389.950\n",
            "_ _ _\n",
            "Título: Tenis Nike Hombre Basketball Precision 6 Azul Verde\n",
            "Precio: 438.900\n",
            "_ _ _\n",
            "Título: Zapatillas Deportivas Tenis Casual Running Original Unisex,k\n",
            "Precio: 210.261\n",
            "_ _ _\n",
            "Título: Tenis Nike Hombre Legend Essential 3 Negro Verde\n",
            "Precio: 392.900\n",
            "_ _ _\n",
            "Título: Ref.bq6806-100 Nike Tenis Hombre Blazer Mid  77 Vntg\n",
            "Precio: 604.950\n",
            "_ _ _\n",
            "Título: Zapatos De Baloncesto Y Zapatillas Deportivas De Moda\n",
            "Precio: 156.577\n",
            "_ _ _\n",
            "Título: Tenis Hombre Nike Pegasus Shield\n",
            "Precio: 804.950\n",
            "_ _ _\n",
            "Título: Zapatos De Man Cómodos Originales Transpirables Delgados\n",
            "Precio: 129.735\n",
            "_ _ _\n",
            "Título: Tenis Nike Hombre Fn5832-101 Air Force One\n",
            "Precio: 819.950\n",
            "_ _ _\n",
            "Título: Tenis Nike M Air Max Alpha Trainer 6-negro\n",
            "Precio: 519.990\n",
            "_ _ _\n",
            "Título: Tenis De Correr Hombre Nike Ref.fb2207-001 Nike Revolution 7\n",
            "Precio: 369.950\n",
            "_ _ _\n",
            "\n"
          ]
        }
      ]
    },
    {
      "cell_type": "code",
      "source": [
        "!li"
      ],
      "metadata": {
        "colab": {
          "base_uri": "https://localhost:8080/"
        },
        "id": "WU21Q8VjypIN",
        "outputId": "3327c53d-8a09-4b15-d6d2-93ae27b55a39"
      },
      "execution_count": null,
      "outputs": [
        {
          "output_type": "stream",
          "name": "stdout",
          "text": [
            "/bin/bash: line 1: li: command not found\n"
          ]
        }
      ]
    },
    {
      "cell_type": "markdown",
      "source": [
        "#**Conclusiones**\n",
        "\n",
        "<p align=\"justify\">\n",
        "Esta práctica nos permitió adentrarnos en el mundo del scraping y descubrir cómo extraer información valiosa de Mercado Libre de manera automatizada. Al usar BeautifulSoup como nuestra herramienta principal, logramos recopilar datos clave, como los títulos y precios de varios modelos de calzado deportivo Nike, demostrando que es una opción muy útil para sitios con HTML estático.\n",
        "</p>\n",
        "\n",
        "<p align=\"justify\">\n",
        "Un punto importante fue configurar cuidadosamente los headers y añadir pausas en las solicitudes. Esto nos ayudó a evitar bloqueos y permitió un acceso fluido a la información. Además, guardar los datos en formatos CSV, JSON y HTML fue clave para poder visualizar y analizar los resultados fácilmente.\n",
        "</p>\n",
        "\n",
        "<p align=\"justify\">\n",
        "Si bien BeautifulSoup funcionó bien en este caso, exploramos otras opciones, como Selenium y Scrapy, pensando en futuros proyectos que puedan requerir trabajar con contenido más dinámico. Esta práctica no solo nos dejó una base sólida en técnicas de scraping, sino que también nos ayudó a entender un poco más sobre el mercado de calzado deportivo en Mercado Libre, lo cual podría ser útil para futuros estudios de mercado.\n",
        "</p>\n",
        "\n",
        "<p align=\"justify\">\n",
        "En resumen, fue una experiencia enriquecedora que nos ayudó a desarrollar habilidades técnicas y a organizar la información de manera clara y accesible.\n",
        "</p>"
      ],
      "metadata": {
        "id": "2QdbBL84M2I5"
      }
    },
    {
      "cell_type": "markdown",
      "source": [
        "# **Bibliografía**\n",
        "\n",
        "<ul style=\"text-align: justify; list-style-type: disc;\">\n",
        "    <li>\n",
        "        <p align=\"justify\">\n",
        "            books.toscrape. (2024). <em>Books to Scrape</em>. <a href=\"https://books.toscrape.com/\">https://books.toscrape.com/</a>\n",
        "        </p>\n",
        "    </li>\n",
        "    <li>\n",
        "        <p align=\"justify\">\n",
        "            Clemente, D., Sinsajoa, G., Sebastian, A., Quintero, T., Esteban, D., & Estrella, F. (2024). Desarrollo de una herramienta de adquisición automática de datos de fuentes externas, para el sistema de gestión de información de la Vicerrectoría de [Doctoral dissertation, Universidad CESMAG]. <a href=\"http://repositorio.unicesmag.edu.co:8080/jspui/handle/123456789/1175\">http://repositorio.unicesmag.edu.co:8080/jspui/handle/123456789/1175</a>\n",
        "        </p>\n",
        "    </li>\n",
        "    <li>\n",
        "        <p align=\"justify\">\n",
        "            Mijangos-Espinosa, R., Martínez-Rebollar, A., Estrada-Esquivel, H., & Hernández-Pérez, Y. (2022). Uso de técnicas de Web Scraping para obtención automática de bases de datos en la Web. <em>rcs.cic.ipn.mx</em>, 151(5), 143–157. <a href=\"https://rcs.cic.ipn.mx/2022_151_5/Uso%20de%20tecnicas%20de%20Web%20Scraping%20para%20obtencion%20automatica%20de%20bases%20de%20datos%20en%20la%20Web.pdf\">https://rcs.cic.ipn.mx/2022_151_5/Uso%20de%20tecnicas%20de%20Web%20Scraping%20para%20obtencion%20automatica%20de%20bases%20de%20datos%20en%20la%20Web.pdf</a>\n",
        "        </p>\n",
        "    </li>\n",
        "</ul>\n"
      ],
      "metadata": {
        "id": "Ji0b4OrBM9H7"
      }
    }
  ]
}